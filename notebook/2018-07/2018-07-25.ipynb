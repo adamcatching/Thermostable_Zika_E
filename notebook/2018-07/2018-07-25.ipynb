{
 "cells": [
  {
   "cell_type": "markdown",
   "metadata": {
    "collapsed": true
   },
   "source": [
    "# July 25th, 2018\n",
    "## Benjamin Adam Catching\n",
    "## Andino Lab, Summer Rotation\n",
    "## Thermostable Zika Virus"
   ]
  },
  {
   "cell_type": "markdown",
   "metadata": {},
   "source": [
    "First look at the Zika virus genome and the previously created mutants that are heat tolerant."
   ]
  },
  {
   "cell_type": "code",
   "execution_count": 62,
   "metadata": {},
   "outputs": [],
   "source": [
    "# Import packages\n",
    "from Bio import SeqIO\n",
    "from Bio import Seq\n",
    "import numpy as np"
   ]
  },
  {
   "cell_type": "code",
   "execution_count": 34,
   "metadata": {},
   "outputs": [],
   "source": [
    "# Read in the genome\n",
    "zika_genome = next(SeqIO.parse('data/sequences/zika_genome.fa', 'fasta'))\n",
    "# Get the sequence of the genome\n",
    "zika_genome = zika_genome.seq.upper()"
   ]
  },
  {
   "cell_type": "code",
   "execution_count": 35,
   "metadata": {},
   "outputs": [],
   "source": [
    "# Save the WT of the polyprotein RNA sequence\n",
    "zika_WT_polyp = zika_genome.transcribe()[106:10378]"
   ]
  },
  {
   "cell_type": "code",
   "execution_count": 54,
   "metadata": {},
   "outputs": [],
   "source": [
    "# Create a list of potential mutants as lists\n",
    "thermo_mutants = [list(str(x)) for x in [zika_WT_polyp] * 5]"
   ]
  },
  {
   "cell_type": "code",
   "execution_count": 55,
   "metadata": {},
   "outputs": [],
   "source": [
    "# Turn mutants to a dictionary (locations are not index-0)\n",
    "mut_dict = {2177 : 'U',\n",
    "            885 : 'U',\n",
    "            1740 : 'C',\n",
    "            2229 : 'U',\n",
    "            1200 : 'U'}"
   ]
  },
  {
   "cell_type": "code",
   "execution_count": 56,
   "metadata": {},
   "outputs": [
    {
     "name": "stdout",
     "output_type": "stream",
     "text": [
      "Previous nt: C\nNew nt: U: \nPrevious nt: C\nNew nt: U: \nPrevious nt: U\nNew nt: C: \nPrevious nt: C\nNew nt: U: \nPrevious nt: C\nNew nt: U: \n"
     ]
    }
   ],
   "source": [
    "mut_dict_keys = mut_dict.__iter__()\n",
    "for mutant in thermo_mutants:\n",
    "    loc = next(mut_dict_keys)\n",
    "    print('Previous nt: %s' % mutant[loc-107])\n",
    "    mutant[loc-107] = mut_dict[loc]\n",
    "    print('New nt: %s: ' % mutant[loc-107])"
   ]
  },
  {
   "cell_type": "code",
   "execution_count": 57,
   "metadata": {},
   "outputs": [],
   "source": [
    "# Change list of nucleotides to seq\n",
    "thermo_mutant_seqs = [Seq.Seq(''.join(x)) for x in thermo_mutants]"
   ]
  },
  {
   "cell_type": "code",
   "execution_count": 63,
   "metadata": {},
   "outputs": [],
   "source": [
    "# Translate the polyprotein to amino acid sequence\n",
    "thermo_mutant_polyproteins = [x.translate() for x in thermo_mutant_seqs]\n",
    "# Translate the polyprotein of the WT\n",
    "thermo_WT_polyprotein = zika_WT_polyp.translate()"
   ]
  },
  {
   "cell_type": "code",
   "execution_count": 73,
   "metadata": {},
   "outputs": [
    {
     "name": "stdout",
     "output_type": "stream",
     "text": [
      "Mutant 0: H690Y\nMutant 1: A259V\nMutant 2: V544A\nMutant 3: A707V\nMutant 4: P364L\n"
     ]
    }
   ],
   "source": [
    "# See where the different amino acids are\n",
    "for i, mutant in enumerate(thermo_mutant_polyproteins):\n",
    "    for j, residue in enumerate(thermo_WT_polyprotein):\n",
    "        mut_residue = mutant[j]\n",
    "        #print(residue, mut_residue)\n",
    "        if mut_residue != residue:\n",
    "            print('Mutant %d: %s%d%s' % (i, residue, j, mut_residue))"
   ]
  },
  {
   "cell_type": "code",
   "execution_count": 91,
   "metadata": {},
   "outputs": [
    {
     "name": "stdout",
     "output_type": "stream",
     "text": [
      "[290, 794]\n"
     ]
    }
   ],
   "source": [
    "# Determine the region of the E Protein\n",
    "end_stop = [977, 2489]\n",
    "pp_end_stop = [x - 107 for x in end_stop]\n",
    "end_stop = [int(x / 3)  for x in pp_end_stop]\n",
    "print(end_stop)"
   ]
  },
  {
   "cell_type": "code",
   "execution_count": 100,
   "metadata": {},
   "outputs": [
    {
     "data": {
      "text/plain": [
       "'IRCIGVSNRD'"
      ]
     },
     "execution_count": 100,
     "metadata": {},
     "output_type": "execute_result"
    }
   ],
   "source": [
    "e_protein_WT = str(thermo_WT_polyprotein)[end_stop[0]:end_stop[1]]\n",
    "e_protein_WT[:10]"
   ]
  },
  {
   "cell_type": "code",
   "execution_count": 108,
   "metadata": {},
   "outputs": [
    {
     "name": "stdout",
     "output_type": "stream",
     "text": [
      "IRCIGVSNRD\nIRCIGVSNRD\nIRCIGVSNRD\nIRCIGVSNRD\nIRCIGVSNRD\n"
     ]
    }
   ],
   "source": [
    "# Get the mutant version of each E-protein\n",
    "e_protein_mutants = []\n",
    "for mut in thermo_mutant_polyproteins:\n",
    "    if thermo_mutant_polyproteins.index(mut) != 1:\n",
    "        temp_pro = str(mut)[end_stop[0]:end_stop[1]]\n",
    "        e_protein_mutants.append(temp_pro)\n",
    "        print(temp_pro[:10])\n",
    "print(e_protein_mutants[0][:10])"
   ]
  },
  {
   "cell_type": "code",
   "execution_count": 113,
   "metadata": {},
   "outputs": [
    {
     "name": "stdout",
     "output_type": "stream",
     "text": [
      "Mutant 1: H400Y\nMutant 2: V254A\nMutant 3: A417V\nMutant 4: P74L\n"
     ]
    }
   ],
   "source": [
    "# Find the localized mutants in the e protein\n",
    "for i, mutant in enumerate(e_protein_mutants):\n",
    "    for j, residue in enumerate(e_protein_WT):\n",
    "        #print(residue, mutant[j])\n",
    "        if residue != mutant[j]:\n",
    "            print('Mutant %d: %s%d%s' % (i+1, residue, j, mutant[j]))"
   ]
  },
  {
   "cell_type": "markdown",
   "metadata": {},
   "source": [
    "From looking at the locations of the mutations, the positively charged Histidine to hydrophobic Tyrosine may make increase the binding energy between dimers."
   ]
  },
  {
   "cell_type": "code",
   "execution_count": null,
   "metadata": {},
   "outputs": [],
   "source": []
  }
 ],
 "metadata": {
  "kernelspec": {
   "display_name": "Python 2",
   "language": "python",
   "name": "python2"
  },
  "language_info": {
   "codemirror_mode": {
    "name": "ipython",
    "version": 2
   },
   "file_extension": ".py",
   "mimetype": "text/x-python",
   "name": "python",
   "nbconvert_exporter": "python",
   "pygments_lexer": "ipython2",
   "version": "2.7.6"
  }
 },
 "nbformat": 4,
 "nbformat_minor": 0
}
